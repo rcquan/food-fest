{
 "metadata": {
  "name": "",
  "signature": "sha256:25140f172040c11d9cf73c016243c335196948774a87f17496fb335f3e37393a"
 },
 "nbformat": 3,
 "nbformat_minor": 0,
 "worksheets": [
  {
   "cells": [
    {
     "cell_type": "code",
     "collapsed": false,
     "input": [
      "import pandas as pd\n",
      "nyc = pd.read_csv('nyc.csv', skiprows = 2)\n",
      "la = pd.read_csv('la.csv', skiprows = 2)\n",
      "ptl = pd.read_csv('ptl.csv', skiprows = 2)\n",
      "cph = pd.read_csv('cph.csv', skiprows = 2)\n",
      "mont = pd.read_csv('mont.csv', skiprows =2)"
     ],
     "language": "python",
     "metadata": {},
     "outputs": [],
     "prompt_number": 7
    },
    {
     "cell_type": "code",
     "collapsed": false,
     "input": [
      "nyc = nyc.ix[:,0:4]\n",
      "la = la.ix[:,0:4]\n",
      "ptl = ptl.ix[:,0:4]\n",
      "cph = cph.ix[:,0:4]\n",
      "mont = mont.ix[:,0:4]"
     ],
     "language": "python",
     "metadata": {},
     "outputs": [],
     "prompt_number": 5
    },
    {
     "cell_type": "code",
     "collapsed": false,
     "input": [],
     "language": "python",
     "metadata": {},
     "outputs": []
    }
   ],
   "metadata": {}
  }
 ]
}